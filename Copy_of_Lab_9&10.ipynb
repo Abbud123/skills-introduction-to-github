{
  "nbformat": 4,
  "nbformat_minor": 0,
  "metadata": {
    "colab": {
      "provenance": [],
      "authorship_tag": "ABX9TyOXXEx05ZLzWHa66TqvvGvW",
      "include_colab_link": true
    },
    "kernelspec": {
      "name": "python3",
      "display_name": "Python 3"
    },
    "language_info": {
      "name": "python"
    }
  },
  "cells": [
    {
      "cell_type": "markdown",
      "metadata": {
        "id": "view-in-github",
        "colab_type": "text"
      },
      "source": [
        "<a href=\"https://colab.research.google.com/github/Abbud123/skills-introduction-to-github/blob/main/Copy_of_Lab_9%2610.ipynb\" target=\"_parent\"><img src=\"https://colab.research.google.com/assets/colab-badge.svg\" alt=\"Open In Colab\"/></a>"
      ]
    },
    {
      "cell_type": "code",
      "source": [
        "import numpy as np\n",
        "import pandas as pd\n",
        "from sklearn.preprocessing import MinMaxScaler, StandardScaler\n",
        "\n",
        "data = pd.DataFrame({\n",
        "    'Feature1': np.random.randint(10, 100, 10),\n",
        "    'Feature2': np.random.randint(100, 1000, 10)\n",
        "})\n",
        "\n",
        "normalizer = MinMaxScaler()\n",
        "normalized_data = normalizer.fit_transform(data)\n",
        "\n",
        "standardizer = StandardScaler()\n",
        "standardized_data = standardizer.fit_transform(data)\n",
        "\n",
        "print(\"Original Data:\\n\", data)\n",
        "print(\"Normalized Data:\\n\", normalized_data)\n",
        "print(\"Standardized Data:\\n\", standardized_data)"
      ],
      "metadata": {
        "colab": {
          "base_uri": "https://localhost:8080/"
        },
        "id": "Y_eiGRqfGW2s",
        "outputId": "bd06d4a8-7301-4263-c932-4de9d164849a"
      },
      "execution_count": null,
      "outputs": [
        {
          "output_type": "stream",
          "name": "stdout",
          "text": [
            "Original Data:\n",
            "    Feature1  Feature2\n",
            "0        72       515\n",
            "1        19       583\n",
            "2        15       688\n",
            "3        86       217\n",
            "4        66       666\n",
            "5        60       828\n",
            "6        90       470\n",
            "7        76       336\n",
            "8        51       241\n",
            "9        48       736\n",
            "Normalized Data:\n",
            " [[0.76       0.48772504]\n",
            " [0.05333333 0.599018  ]\n",
            " [0.         0.77086743]\n",
            " [0.94666667 0.        ]\n",
            " [0.68       0.73486088]\n",
            " [0.6        1.        ]\n",
            " [1.         0.41407529]\n",
            " [0.81333333 0.19476268]\n",
            " [0.48       0.03927987]\n",
            " [0.44       0.84942717]]\n",
            "Standardized Data:\n",
            " [[ 0.56334732 -0.0649659 ]\n",
            " [-1.61602553  0.27485574]\n",
            " [-1.7805065   0.79958033]\n",
            " [ 1.13903072 -1.55418427]\n",
            " [ 0.31662587  0.68963804]\n",
            " [ 0.06990441  1.49921312]\n",
            " [ 1.30351169 -0.28984787]\n",
            " [ 0.72782829 -0.9594964 ]\n",
            " [-0.30017777 -1.43424722]\n",
            " [-0.4235385   1.03945443]]\n"
          ]
        }
      ]
    },
    {
      "cell_type": "code",
      "source": [
        "from sklearn.preprocessing import OneHotEncoder\n",
        "\n",
        "df = pd.DataFrame({'Color': ['Red', 'Blue', 'Green', 'Red']})\n",
        "encoder = OneHotEncoder(sparse_output=False)\n",
        "encoded = encoder.fit_transform(df[['Color']])\n",
        "\n",
        "print(pd.DataFrame(encoded, columns=encoder.get_feature_names_out(['Color'])))"
      ],
      "metadata": {
        "colab": {
          "base_uri": "https://localhost:8080/"
        },
        "id": "qGmJtWqeGaFd",
        "outputId": "e90fd9fa-7d2c-4eb2-c19d-d4013199eb88"
      },
      "execution_count": null,
      "outputs": [
        {
          "output_type": "stream",
          "name": "stdout",
          "text": [
            "   Color_Blue  Color_Green  Color_Red\n",
            "0         0.0          0.0        1.0\n",
            "1         1.0          0.0        0.0\n",
            "2         0.0          1.0        0.0\n",
            "3         0.0          0.0        1.0\n"
          ]
        }
      ]
    },
    {
      "cell_type": "code",
      "source": [
        "from sklearn.preprocessing import LabelEncoder\n",
        "\n",
        "df = pd.DataFrame({'Size': ['Small', 'Medium', 'Large', 'Medium']})\n",
        "le = LabelEncoder()\n",
        "df['Size_encoded'] = le.fit_transform(df['Size'])\n",
        "print(df)"
      ],
      "metadata": {
        "colab": {
          "base_uri": "https://localhost:8080/"
        },
        "id": "J2Qfz48sSV03",
        "outputId": "08764dbc-d726-4c0d-c1b8-f5e7c5528b07"
      },
      "execution_count": null,
      "outputs": [
        {
          "output_type": "stream",
          "name": "stdout",
          "text": [
            "     Size  Size_encoded\n",
            "0   Small             2\n",
            "1  Medium             1\n",
            "2   Large             0\n",
            "3  Medium             1\n"
          ]
        }
      ]
    },
    {
      "cell_type": "code",
      "source": [
        "data = pd.DataFrame({'Score': [45, 55, 50, 49, 200, 350, 52, 47, 46, 500]})\n",
        "Q1 = data['Score'].quantile(0.25)\n",
        "Q3 = data['Score'].quantile(0.75)\n",
        "IQR = Q3 - Q1\n",
        "outliers = data[(data['Score'] < Q1 - 1.5 * IQR) | (data['Score'] > Q3 + 1.5 * IQR)]\n",
        "print(\"Outliers:\\n\", outliers)"
      ],
      "metadata": {
        "colab": {
          "base_uri": "https://localhost:8080/"
        },
        "id": "QjL_blBfSfI1",
        "outputId": "04404861-dab1-4e68-fddb-9ae3c69ffa3b"
      },
      "execution_count": null,
      "outputs": [
        {
          "output_type": "stream",
          "name": "stdout",
          "text": [
            "Outliers:\n",
            "    Score\n",
            "5    350\n",
            "9    500\n"
          ]
        }
      ]
    },
    {
      "cell_type": "code",
      "source": [
        "from scipy.stats import zscore\n",
        "\n",
        "data['z_score'] = zscore(data['Score'])\n",
        "print(data[data['z_score'].abs() > 2])"
      ],
      "metadata": {
        "colab": {
          "base_uri": "https://localhost:8080/"
        },
        "id": "lNsBg0XDSr2j",
        "outputId": "193693c6-bc83-41a2-eaaf-a4f8b1bf27f3"
      },
      "execution_count": null,
      "outputs": [
        {
          "output_type": "stream",
          "name": "stdout",
          "text": [
            "   Score   z_score\n",
            "9    500  2.351513\n"
          ]
        }
      ]
    },
    {
      "cell_type": "code",
      "source": [
        "from sklearn.feature_selection import VarianceThreshold\n",
        "import pandas as pd\n",
        "\n",
        "data = pd.DataFrame({\n",
        "    'A': [1, 1, 1, 1, 1],\n",
        "    'B': [1, 2, 1, 2, 1],\n",
        "    'C': [5, 5, 5, 5, 5],\n",
        "    'D': [10, 12, 11, 14, 13]\n",
        "})\n",
        "selector = VarianceThreshold(threshold=0.5)\n",
        "filtered_data = selector.fit_transform(data)\n",
        "print(\"Selected Features Shape:\", filtered_data.shape)"
      ],
      "metadata": {
        "colab": {
          "base_uri": "https://localhost:8080/"
        },
        "id": "GaQFcQF5TqhZ",
        "outputId": "2254aada-cc7d-4741-ef53-5fdddf044b20"
      },
      "execution_count": null,
      "outputs": [
        {
          "output_type": "stream",
          "name": "stdout",
          "text": [
            "Selected Features Shape: (5, 1)\n"
          ]
        }
      ]
    },
    {
      "cell_type": "code",
      "source": [
        "from sklearn.pipeline import Pipeline\n",
        "from sklearn.compose import ColumnTransformer\n",
        "from sklearn.preprocessing import StandardScaler, OneHotEncoder\n",
        "import seaborn as sns\n",
        "import pandas as pd\n",
        "\n",
        "df = sns.load_dataset(\"titanic\").dropna()\n",
        "X = df[['sex', 'class', 'fare', 'age']]\n",
        "\n",
        "categorical = ['sex', 'class']\n",
        "numerical = ['fare', 'age']\n",
        "\n",
        "preprocessor = ColumnTransformer([\n",
        "    ('cat', OneHotEncoder(), categorical),\n",
        "    ('num', StandardScaler(), numerical)\n",
        "])\n",
        "\n",
        "pipeline = Pipeline([\n",
        "    ('preprocess', preprocessor)\n",
        "])\n",
        "\n",
        "X_transformed = pipeline.fit_transform(X)\n",
        "print(X_transformed.toarray() if hasattr(X_transformed, 'toarray') else X_transformed)"
      ],
      "metadata": {
        "colab": {
          "base_uri": "https://localhost:8080/"
        },
        "id": "MjqQIOcQUhLh",
        "outputId": "e0ce97e0-74a7-4369-aec6-83b521825a98"
      },
      "execution_count": null,
      "outputs": [
        {
          "output_type": "stream",
          "name": "stdout",
          "text": [
            "[[ 1.          0.          1.         ...  0.         -0.10011013\n",
            "   0.15208196]\n",
            " [ 1.          0.          1.         ...  0.         -0.33848477\n",
            "  -0.03987502]\n",
            " [ 0.          1.          1.         ...  0.         -0.35470782\n",
            "   1.17585249]\n",
            " ...\n",
            " [ 1.          0.          1.         ...  0.          0.05556562\n",
            "   1.30382381]\n",
            " [ 1.          0.          1.         ...  0.         -0.64131507\n",
            "  -1.06364555]\n",
            " [ 0.          1.          1.         ...  0.         -0.64131507\n",
            "  -0.61574594]]\n"
          ]
        }
      ]
    }
  ]
}