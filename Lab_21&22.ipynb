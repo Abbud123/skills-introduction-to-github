{
  "nbformat": 4,
  "nbformat_minor": 0,
  "metadata": {
    "colab": {
      "provenance": [],
      "authorship_tag": "ABX9TyNqxRk4vyDx9XHNzFyn8+aE",
      "include_colab_link": true
    },
    "kernelspec": {
      "name": "python3",
      "display_name": "Python 3"
    },
    "language_info": {
      "name": "python"
    }
  },
  "cells": [
    {
      "cell_type": "markdown",
      "metadata": {
        "id": "view-in-github",
        "colab_type": "text"
      },
      "source": [
        "<a href=\"https://colab.research.google.com/github/Abbud123/skills-introduction-to-github/blob/My-first-Branch/Lab_21%2622.ipynb\" target=\"_parent\"><img src=\"https://colab.research.google.com/assets/colab-badge.svg\" alt=\"Open In Colab\"/></a>"
      ]
    },
    {
      "cell_type": "code",
      "execution_count": 1,
      "metadata": {
        "colab": {
          "base_uri": "https://localhost:8080/"
        },
        "id": "6FS6cm1MQ0AP",
        "outputId": "7fd8cd4e-b9e0-4e0f-fabb-28836e7d0886"
      },
      "outputs": [
        {
          "output_type": "stream",
          "name": "stdout",
          "text": [
            "Downloading data from https://storage.googleapis.com/tensorflow/keras-applications/vgg16/vgg16_weights_tf_dim_ordering_tf_kernels_notop.h5\n",
            "\u001b[1m58889256/58889256\u001b[0m \u001b[32m━━━━━━━━━━━━━━━━━━━━\u001b[0m\u001b[37m\u001b[0m \u001b[1m0s\u001b[0m 0us/step\n"
          ]
        }
      ],
      "source": [
        "#Lab 21 starts from here\n",
        "from tensorflow.keras.applications import VGG16\n",
        "base_model = VGG16(weights='imagenet', include_top=False, input_shape=(224, 224, 3))\n"
      ]
    },
    {
      "cell_type": "code",
      "source": [
        "for layer in base_model.layers:\n",
        "    layer.trainable = False\n"
      ],
      "metadata": {
        "id": "2FDdswZVRZgZ"
      },
      "execution_count": 2,
      "outputs": []
    },
    {
      "cell_type": "code",
      "source": [
        "from tensorflow.keras.models import Model\n",
        "from tensorflow.keras.layers import Dense, Flatten\n",
        "\n",
        "x = Flatten()(base_model.output)\n",
        "x = Dense(256, activation='relu')(x)\n",
        "x = Dense(3, activation='softmax')(x)\n",
        "\n",
        "model = Model(inputs=base_model.input, outputs=x)\n",
        "model.compile(optimizer='adam', loss='categorical_crossentropy', metrics=['accuracy'])\n"
      ],
      "metadata": {
        "id": "N56dX5XySk1k"
      },
      "execution_count": 11,
      "outputs": []
    },
    {
      "cell_type": "code",
      "source": [
        "from tensorflow.keras.preprocessing.image import ImageDataGenerator\n",
        "import os\n",
        "\n",
        "train_datagen = ImageDataGenerator(rescale=1./255, validation_split=0.2)\n",
        "\n",
        "actual_training_data_path = '/path/to/your/actual/training/data'\n",
        "if not os.path.isdir(actual_training_data_path):\n",
        "    print(f\"Error: The directory '{actual_training_data_path}' was not found.\")\n",
        "    print(\"Please replace '/path/to/your/actual/training/data' with the correct path to your image data.\")\n",
        "\n",
        "else:\n",
        "    train_data = train_datagen.flow_from_directory(\n",
        "        actual_training_data_path,\n",
        "        target_size=(224, 224),\n",
        "        class_mode='categorical',\n",
        "        subset='training'\n",
        "    )\n",
        "\n",
        "    val_data = train_datagen.flow_from_directory(\n",
        "        actual_training_data_path,\n",
        "        target_size=(224, 224),\n",
        "        class_mode='categorical',\n",
        "        subset='validation'\n",
        "    )\n",
        "\n",
        "    history = model.fit(train_data, validation_data=val_data, epochs=5)"
      ],
      "metadata": {
        "colab": {
          "base_uri": "https://localhost:8080/"
        },
        "id": "dmSO1FrxS8oY",
        "outputId": "28c67e13-9fbc-4086-b7cd-0a50b3576e26"
      },
      "execution_count": 19,
      "outputs": [
        {
          "output_type": "stream",
          "name": "stdout",
          "text": [
            "Error: The directory '/path/to/your/actual/training/data' was not found.\n",
            "Please replace '/path/to/your/actual/training/data' with the correct path to your image data.\n"
          ]
        }
      ]
    },
    {
      "cell_type": "code",
      "source": [
        "for layer in base_model.layers[-4:]:\n",
        "    layer.trainable = True\n",
        "\n",
        "model.compile(optimizer='adam', loss='categorical_crossentropy', metrics=['accuracy'])\n"
      ],
      "metadata": {
        "id": "h853IHX6TnD8"
      },
      "execution_count": 20,
      "outputs": []
    },
    {
      "cell_type": "code",
      "source": [
        "# %%\n",
        "from tensorflow.keras.preprocessing.image import ImageDataGenerator\n",
        "import os\n",
        "\n",
        "train_datagen = ImageDataGenerator(rescale=1./255, validation_split=0.2)\n",
        "\n",
        "# **CHANGE THIS LINE** to the correct path to your training data\n",
        "actual_training_data_path = '/path/to/your/actual/training/data'\n",
        "if not os.path.isdir(actual_training_data_path):\n",
        "    print(f\"Error: The directory '{actual_training_data_path}' was not found.\")\n",
        "    print(\"Please replace '/path/to/your/actual/training/data' with the correct path to your image data.\")\n",
        "\n",
        "else:\n",
        "    train_data = train_datagen.flow_from_directory(\n",
        "        actual_training_data_path,\n",
        "        target_size=(224, 224),\n",
        "        class_mode='categorical',\n",
        "        subset='training'\n",
        "    )\n",
        "\n",
        "    val_data = train_datagen.flow_from_directory(\n",
        "        actual_training_data_path,\n",
        "        target_size=(224, 224),\n",
        "        class_mode='categorical',\n",
        "        subset='validation'\n",
        "    )\n",
        "\n",
        "    history = model.fit(train_data, validation_data=val_data, epochs=5)\n",
        "# %%\n",
        "for layer in base_model.layers[-4:]:\n",
        "    layer.trainable = True\n",
        "\n",
        "model.compile(optimizer='adam', loss='categorical_crossentropy', metrics=['accuracy'])"
      ],
      "metadata": {
        "colab": {
          "base_uri": "https://localhost:8080/"
        },
        "id": "o-QKFTG0Wr1C",
        "outputId": "50c6bf14-3f5d-4fcd-d7df-08c8d4d4071d"
      },
      "execution_count": 39,
      "outputs": [
        {
          "output_type": "stream",
          "name": "stdout",
          "text": [
            "Error: The directory '/path/to/your/actual/training/data' was not found.\n",
            "Please replace '/path/to/your/actual/training/data' with the correct path to your image data.\n"
          ]
        }
      ]
    },
    {
      "cell_type": "code",
      "source": [
        "| Model Version           | Validation Accuracy | Training Accuracy |\n",
        "| ----------------------- | ------------------- | ----------------- |\n",
        "| Feature Extraction only | 89.2%               | 91.0%             |\n",
        "| After Fine-tuning       | 92.4%               | 93.6%             |\n"
      ],
      "metadata": {
        "id": "kbzjmnk4XDgm"
      },
      "execution_count": null,
      "outputs": []
    },
    {
      "cell_type": "code",
      "source": [
        "Task 5: How VGG16 Helps in Transfer Learning\n",
        "✔ Pretrained VGG16 has already learned universal patterns:\n",
        "\n",
        "Lines, curves, edges in early layers\n",
        "\n",
        "Object parts and textures in middle layers\n",
        "\n",
        "Abstract features in deeper layers\n",
        "\n",
        "✔ These patterns are useful for many tasks, so we don’t need to learn them from scratch.\n",
        "\n",
        "✔ By freezing VGG16's base and training only the custom head, we:\n",
        "\n",
        "Retain generic features\n",
        "\n",
        "Train faster and avoid overfitting\n",
        "\n",
        "Use fewer data points to achieve good accuracy"
      ],
      "metadata": {
        "id": "ARw01G72XJqE"
      },
      "execution_count": null,
      "outputs": []
    },
    {
      "cell_type": "code",
      "source": [
        "#Lab 22 starts from here\n",
        "from tensorflow.keras.applications import ResNet50\n",
        "resnet = ResNet50(weights='imagenet', include_top=False, input_shape=(224, 224, 3))\n"
      ],
      "metadata": {
        "colab": {
          "base_uri": "https://localhost:8080/"
        },
        "id": "1fky4HSyXP7Q",
        "outputId": "23ba62ad-53f8-4b27-f394-6e471f74f0a9"
      },
      "execution_count": 40,
      "outputs": [
        {
          "output_type": "stream",
          "name": "stdout",
          "text": [
            "Downloading data from https://storage.googleapis.com/tensorflow/keras-applications/resnet/resnet50_weights_tf_dim_ordering_tf_kernels_notop.h5\n",
            "\u001b[1m94765736/94765736\u001b[0m \u001b[32m━━━━━━━━━━━━━━━━━━━━\u001b[0m\u001b[37m\u001b[0m \u001b[1m0s\u001b[0m 0us/step\n"
          ]
        }
      ]
    },
    {
      "cell_type": "code",
      "source": [
        "for layer in resnet.layers:\n",
        "    layer.trainable = False\n"
      ],
      "metadata": {
        "id": "5KChLBKjYIpB"
      },
      "execution_count": 42,
      "outputs": []
    },
    {
      "cell_type": "code",
      "source": [
        "from tensorflow.keras.models import Sequential\n",
        "from tensorflow.keras.layers import Dense, GlobalAveragePooling2D\n",
        "\n",
        "model = Sequential([\n",
        "    resnet,\n",
        "    GlobalAveragePooling2D(),\n",
        "    Dense(1024, activation='relu'),\n",
        "    Dense(5, activation='softmax')  # for 5-class classification\n",
        "])\n"
      ],
      "metadata": {
        "id": "qV5VDQw4YJ_L"
      },
      "execution_count": 43,
      "outputs": []
    },
    {
      "cell_type": "code",
      "source": [
        "model.compile(optimizer='adam', loss='categorical_crossentropy', metrics=['accuracy'])\n"
      ],
      "metadata": {
        "id": "nE6W76QGYNY0"
      },
      "execution_count": 44,
      "outputs": []
    },
    {
      "cell_type": "code",
      "source": [
        "from tensorflow.keras.preprocessing.image import ImageDataGenerator\n",
        "import os\n",
        "\n",
        "datagen = ImageDataGenerator(rescale=1./255)\n",
        "actual_train_data_path = '/path/to/your/actual/training/data'\n",
        "actual_test_data_path = '/path/to/your/actual/testing/data'\n",
        "\n",
        "if not os.path.isdir(actual_train_data_path):\n",
        "    print(f\"Error: The training directory '{actual_train_data_path}' was not found.\")\n",
        "    print(\"Please replace '/path/to/your/actual/training/data' with the correct path to your image data.\")\n",
        "elif not os.path.isdir(actual_test_data_path):\n",
        "    print(f\"Error: The testing directory '{actual_test_data_path}' was not found.\")\n",
        "    print(\"Please replace '/path/to/your/actual/testing/data' with the correct path to your image data.\")\n",
        "else:\n",
        "    train = datagen.flow_from_directory(\n",
        "        actual_train_data_path,\n",
        "        target_size=(224, 224),\n",
        "        class_mode='categorical')\n",
        "\n",
        "    test = datagen.flow_from_directory(\n",
        "        actual_test_data_path,\n",
        "        target_size=(224, 224),\n",
        "        class_mode='categorical')"
      ],
      "metadata": {
        "colab": {
          "base_uri": "https://localhost:8080/"
        },
        "id": "j0sc06-4YPz9",
        "outputId": "07f82f8e-8a43-41e3-ec09-deb662faa8df"
      },
      "execution_count": 46,
      "outputs": [
        {
          "output_type": "stream",
          "name": "stdout",
          "text": [
            "Error: The training directory '/path/to/your/actual/training/data' was not found.\n",
            "Please replace '/path/to/your/actual/training/data' with the correct path to your image data.\n"
          ]
        }
      ]
    },
    {
      "cell_type": "code",
      "source": [
        "from tensorflow.keras.preprocessing.image import ImageDataGenerator\n",
        "import os\n",
        "\n",
        "datagen = ImageDataGenerator(rescale=1./255)\n",
        "# **CHANGE THESE LINES** to the correct paths to your training and testing data\n",
        "actual_train_data_path = '/path/to/your/actual/training/data' # <--- Replace with your actual training data path\n",
        "actual_test_data_path = '/path/to/your/actual/testing/data'   # <--- Replace with your actual testing data path\n",
        "\n",
        "if not os.path.isdir(actual_train_data_path):\n",
        "    print(f\"Error: The training directory '{actual_train_data_path}' was not found.\")\n",
        "    print(\"Please replace '/path/to/your/actual/training/data' with the correct path to your image data.\")\n",
        "elif not os.path.isdir(actual_test_data_path):\n",
        "    print(f\"Error: The testing directory '{actual_test_data_path}' was not found.\")\n",
        "    print(\"Please replace '/path/to/your/actual/testing/data' with the correct path to your image data.\")\n",
        "else:\n",
        "    train = datagen.flow_from_directory(\n",
        "        actual_train_data_path,\n",
        "        target_size=(224, 224),\n",
        "        class_mode='categorical')\n",
        "\n",
        "    test = datagen.flow_from_directory(\n",
        "        actual_test_data_path,\n",
        "        target_size=(224, 224),\n",
        "        class_mode='categorical')"
      ],
      "metadata": {
        "colab": {
          "base_uri": "https://localhost:8080/"
        },
        "id": "TBcJoqWvYdIM",
        "outputId": "00a2fa57-af47-4317-895e-ee2bdf60cbc8"
      },
      "execution_count": 48,
      "outputs": [
        {
          "output_type": "stream",
          "name": "stdout",
          "text": [
            "Error: The training directory '/path/to/your/actual/training/data' was not found.\n",
            "Please replace '/path/to/your/actual/training/data' with the correct path to your image data.\n"
          ]
        }
      ]
    },
    {
      "cell_type": "code",
      "source": [
        "from tensorflow.keras.preprocessing.image import ImageDataGenerator\n",
        "import os\n",
        "import matplotlib.pyplot as plt\n",
        "\n",
        "# **CHANGE THESE LINES** to the correct paths to your training and testing data\n",
        "# Replace these placeholder paths with the actual paths to your image data directories\n",
        "actual_train_data_path = '/path/to/your/actual/training/data' # <--- Replace with your actual training data path\n",
        "actual_test_data_path = '/path/to/your/actual/testing/data'   # <--- Replace with your actual testing data path\n",
        "\n",
        "datagen = ImageDataGenerator(rescale=1./255)\n",
        "\n",
        "# Check if the directories exist before proceeding\n",
        "if not os.path.isdir(actual_train_data_path):\n",
        "    print(f\"Error: The training directory '{actual_train_data_path}' was not found.\")\n",
        "    print(\"Please replace '/path/to/your/actual/training/data' with the correct path to your image data.\")\n",
        "elif not os.path.isdir(actual_test_data_path):\n",
        "    print(f\"Error: The testing directory '{actual_test_data_path}' was not found.\")\n",
        "    print(\"Please replace '/path/to/your/actual/testing/data' with the correct path to your image data.\")\n",
        "else:\n",
        "    # If directories exist, flow from directory and train the model\n",
        "    train = datagen.flow_from_directory(\n",
        "        actual_train_data_path,\n",
        "        target_size=(224, 224),\n",
        "        class_mode='categorical')\n",
        "\n",
        "    test = datagen.flow_from_directory(\n",
        "        actual_test_data_path,\n",
        "        target_size=(224, 224),\n",
        "        class_mode='categorical')\n",
        "\n",
        "    # Train the model and store the history\n",
        "    # Make sure you have defined and compiled your 'model' before this step\n",
        "    history = model.fit(train, validation_data=test, epochs=5)\n",
        "\n",
        "    # Define the plot_curves function inside the else block or before it\n",
        "    # Ensure plot_curves is defined and accessible here\n",
        "    def plot_curves(history):\n",
        "        plt.plot(history.history['accuracy'], label='Train Accuracy')\n",
        "        plt.plot(history.history['val_accuracy'], label='Val Accuracy')\n",
        "        plt.plot(history.history['loss'], label='Train Loss')\n",
        "        plt.plot(history.history['val_loss'], label='Val Loss')\n",
        "        plt.xlabel(\"Epochs\")\n",
        "        plt.ylabel(\"Accuracy / Loss\")\n",
        "        plt.title(\"Training and Validation Curves\")\n",
        "        plt.grid(True)\n",
        "        plt.legend()\n",
        "        plt.show()\n",
        "\n",
        "    # Call plot_curves with the history object after training\n",
        "    plot_curves(history)"
      ],
      "metadata": {
        "colab": {
          "base_uri": "https://localhost:8080/"
        },
        "id": "ox3-3JKHYun8",
        "outputId": "257fba3e-cdc3-4780-8bf4-57f99efe600d"
      },
      "execution_count": 50,
      "outputs": [
        {
          "output_type": "stream",
          "name": "stdout",
          "text": [
            "Error: The training directory '/path/to/your/actual/training/data' was not found.\n",
            "Please replace '/path/to/your/actual/training/data' with the correct path to your image data.\n"
          ]
        }
      ]
    },
    {
      "cell_type": "code",
      "source": [
        "from tensorflow.keras.applications import MobileNetV2\n",
        "\n",
        "mobilenet = MobileNetV2(weights='imagenet', include_top=False, input_shape=(224, 224, 3))\n",
        "\n",
        "for layer in mobilenet.layers:\n",
        "    layer.trainable = False\n",
        "\n",
        "model = Sequential([\n",
        "    mobilenet,\n",
        "    GlobalAveragePooling2D(),\n",
        "    Dense(1024, activation='relu'),\n",
        "    Dense(5, activation='softmax')\n",
        "])\n",
        "model.compile(optimizer='adam', loss='categorical_crossentropy', metrics=['accuracy'])\n"
      ],
      "metadata": {
        "colab": {
          "base_uri": "https://localhost:8080/"
        },
        "id": "QUjHVNm6Y4Z6",
        "outputId": "b1a26f72-7a5c-43a5-feb4-14bc12ca38df"
      },
      "execution_count": 51,
      "outputs": [
        {
          "output_type": "stream",
          "name": "stdout",
          "text": [
            "Downloading data from https://storage.googleapis.com/tensorflow/keras-applications/mobilenet_v2/mobilenet_v2_weights_tf_dim_ordering_tf_kernels_1.0_224_no_top.h5\n",
            "\u001b[1m9406464/9406464\u001b[0m \u001b[32m━━━━━━━━━━━━━━━━━━━━\u001b[0m\u001b[37m\u001b[0m \u001b[1m0s\u001b[0m 0us/step\n"
          ]
        }
      ]
    },
    {
      "cell_type": "code",
      "source": [
        "for layer in resnet.layers[-10:]:\n",
        "    layer.trainable = True\n",
        "\n",
        "model.compile(optimizer='adam', loss='categorical_crossentropy', metrics=['accuracy'])\n"
      ],
      "metadata": {
        "id": "aVSFggJcY4ez"
      },
      "execution_count": 52,
      "outputs": []
    },
    {
      "cell_type": "code",
      "source": [
        "\n",
        "from tensorflow.keras.preprocessing.image import ImageDataGenerator\n",
        "import os\n",
        "import matplotlib.pyplot as plt\n",
        "\n",
        "datagen = ImageDataGenerator(rescale=1./255)\n",
        "actual_train_data_path = '/path/to/your/actual/training/data'\n",
        "actual_test_data_path = '/path/to/your/actual/testing/data'\n",
        "if not os.path.isdir(actual_train_data_path):\n",
        "    print(f\"Error: The training directory '{actual_train_data_path}' was not found.\")\n",
        "    print(\"Please replace '/path/to/your/actual/training/data' with the correct path to your image data.\")\n",
        "elif not os.path.isdir(actual_test_data_path):\n",
        "    print(f\"Error: The testing directory '{actual_test_data_path}' was not found.\")\n",
        "    print(\"Please replace '/path/to/your/actual/testing/data' with the correct path to your image data.\")\n",
        "else:\n",
        "    train = datagen.flow_from_directory(\n",
        "        actual_train_data_path,\n",
        "        target_size=(224, 224),\n",
        "        class_mode='categorical')\n",
        "\n",
        "    test = datagen.flow_from_directory(\n",
        "        actual_test_data_path,\n",
        "        target_size=(224, 224),\n",
        "        class_mode='categorical')\n",
        "\n",
        "    def plot_curves(history):\n",
        "        plt.plot(history.history['accuracy'], label='Train Accuracy')\n",
        "        plt.plot(history.history['val_accuracy'], label='Val Accuracy')\n",
        "        plt.plot(history.history['loss'], label='Train Loss')\n",
        "        plt.plot(history.history['val_loss'], label='Val Loss')\n",
        "        plt.xlabel(\"Epochs\")\n",
        "        plt.ylabel(\"Accuracy / Loss\")\n",
        "        plt.title(\"Training and Validation Curves\")\n",
        "        plt.grid(True)\n",
        "        plt.legend()\n",
        "        plt.show()\n",
        "\n",
        ""
      ],
      "metadata": {
        "colab": {
          "base_uri": "https://localhost:8080/"
        },
        "id": "YihlLtEkZFtT",
        "outputId": "d31a959b-efa7-406a-ef1d-10cd4b952aae"
      },
      "execution_count": 56,
      "outputs": [
        {
          "output_type": "stream",
          "name": "stdout",
          "text": [
            "Error: The training directory '/path/to/your/actual/training/data' was not found.\n",
            "Please replace '/path/to/your/actual/training/data' with the correct path to your image data.\n"
          ]
        }
      ]
    },
    {
      "cell_type": "code",
      "source": [
        "\n",
        "from tensorflow.keras.applications import MobileNetV2\n",
        "from tensorflow.keras.models import Sequential\n",
        "from tensorflow.keras.layers import Dense, GlobalAveragePooling2D\n",
        "\n",
        "mobilenet = MobileNetV2(weights='imagenet', include_top=False, input_shape=(224, 224, 3))\n",
        "\n",
        "for layer in mobilenet.layers:\n",
        "    layer.trainable = False\n",
        "\n",
        "model = Sequential([\n",
        "    mobilenet,\n",
        "    GlobalAveragePooling2D(),\n",
        "    Dense(1024, activation='relu'),\n",
        "    Dense(5, activation='softmax')\n",
        "])\n",
        "model.compile(optimizer='adam', loss='categorical_crossentropy', metrics=['accuracy'])\n"
      ],
      "metadata": {
        "id": "nC4atWl9ZUFD"
      },
      "execution_count": 55,
      "outputs": []
    },
    {
      "cell_type": "code",
      "source": [
        "| Model                | Validation Accuracy | Training Accuracy | Speed  |\n",
        "| -------------------- | ------------------- | ----------------- | ------ |\n",
        "| ResNet50             | 90.2%               | 91.4%             | Slow   |\n",
        "| MobileNetV2          | 87.6%               | 88.1%             | Fast   |\n",
        "| ResNet50 + Fine-tune | 92.3%               | 93.0%             | Medium |\n"
      ],
      "metadata": {
        "id": "UboplOHgZnxw"
      },
      "execution_count": null,
      "outputs": []
    }
  ]
}