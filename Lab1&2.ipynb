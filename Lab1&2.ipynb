{
  "nbformat": 4,
  "nbformat_minor": 0,
  "metadata": {
    "colab": {
      "provenance": [],
      "authorship_tag": "ABX9TyMXQ3j8sr2He0FjtB66fK75",
      "include_colab_link": true
    },
    "kernelspec": {
      "name": "python3",
      "display_name": "Python 3"
    },
    "language_info": {
      "name": "python"
    }
  },
  "cells": [
    {
      "cell_type": "markdown",
      "metadata": {
        "id": "view-in-github",
        "colab_type": "text"
      },
      "source": [
        "<a href=\"https://colab.research.google.com/github/Abbud123/skills-introduction-to-github/blob/main/Lab1%262.ipynb\" target=\"_parent\"><img src=\"https://colab.research.google.com/assets/colab-badge.svg\" alt=\"Open In Colab\"/></a>"
      ]
    },
    {
      "cell_type": "code",
      "execution_count": 1,
      "metadata": {
        "colab": {
          "base_uri": "https://localhost:8080/"
        },
        "id": "NnUJ4f1tCC1A",
        "outputId": "f67088b1-22a2-4ff7-81ab-bda13ede14c2"
      },
      "outputs": [
        {
          "output_type": "stream",
          "name": "stdout",
          "text": [
            " Welcome to Data Science & AI Lab!\n",
            "Let's start with Python basics.\n"
          ]
        }
      ],
      "source": [
        "print(\" Welcome to Data Science & AI Lab!\")\n",
        "print(\"Let's start with Python basics.\")"
      ]
    },
    {
      "cell_type": "code",
      "source": [
        "name = input(\"Enter your name: \")\n",
        "roll_no = input(\"Enter your roll number: \")\n",
        "language = input(\"Enter your favorite programming language: \")\n",
        "\n",
        "print(f\"\\ Student Info:\\nName: {name}\\nRoll No: {roll_no}\\nFavorite Language: {language}\")\n"
      ],
      "metadata": {
        "colab": {
          "base_uri": "https://localhost:8080/"
        },
        "id": "XZJk_71kJBDR",
        "outputId": "5da7def4-d4f8-47b4-b2d9-13a3cdc740a9"
      },
      "execution_count": 2,
      "outputs": [
        {
          "output_type": "stream",
          "name": "stdout",
          "text": [
            "Enter your name: Abdullah Fakhar\n",
            "Enter your roll number: BCS231105\n",
            "Enter your favorite programming language: Python and C++\n",
            "\\ Student Info:\n",
            "Name: Abdullah Fakhar\n",
            "Roll No: BCS231105\n",
            "Favorite Language: Python and C++\n"
          ]
        }
      ]
    },
    {
      "cell_type": "code",
      "source": [
        "num1 = float(input(\"Enter first number: \"))\n",
        "num2 = float(input(\"Enter second number: \"))\n",
        "\n",
        "print(f\"\\n Results:\")\n",
        "print(f\"{num1} + {num2} = {num1 + num2}\")\n",
        "print(f\"{num1} - {num2} = {num1 - num2}\")\n",
        "print(f\"{num1} * {num2} = {num1 * num2}\")\n",
        "print(f\"{num1} / {num2} = {num1 / num2 if num2 != 0 else 'Cannot divide by zero'}\")\n",
        "print(f\"{num1} % {num2} = {num1 % num2}\")\n",
        "print(f\"{num1} ** {num2} = {num1 ** num2}\")"
      ],
      "metadata": {
        "colab": {
          "base_uri": "https://localhost:8080/"
        },
        "id": "57bNUxjdJMI-",
        "outputId": "42143ddb-9828-4506-9821-48b1ba695cc1"
      },
      "execution_count": 5,
      "outputs": [
        {
          "output_type": "stream",
          "name": "stdout",
          "text": [
            "Enter first number: 5\n",
            "Enter second number: 4\n",
            "\n",
            " Results:\n",
            "5.0 + 4.0 = 9.0\n",
            "5.0 - 4.0 = 1.0\n",
            "5.0 * 4.0 = 20.0\n",
            "5.0 / 4.0 = 1.25\n",
            "5.0 % 4.0 = 1.0\n",
            "5.0 ** 4.0 = 625.0\n"
          ]
        }
      ]
    },
    {
      "cell_type": "code",
      "source": [
        "age = int(input(\"Enter your age: \"))\n",
        "\n",
        "if age >= 18:\n",
        "    print(\" You are eligible to vote!\")\n",
        "elif age > 0:\n",
        "    print(\" You are not eligible to vote yet.\")\n",
        "else:\n",
        "    print(\" Invalid age entered.\")"
      ],
      "metadata": {
        "colab": {
          "base_uri": "https://localhost:8080/"
        },
        "id": "E7_NHR-wKHhE",
        "outputId": "9bde08c8-4642-42c6-e96c-91d3f85c5e4f"
      },
      "execution_count": 6,
      "outputs": [
        {
          "output_type": "stream",
          "name": "stdout",
          "text": [
            "Enter your age: 21\n",
            " You are eligible to vote!\n"
          ]
        }
      ]
    },
    {
      "cell_type": "code",
      "source": [
        "marks = int(input(\"Enter your percentage: \"))\n",
        "\n",
        "if marks >= 90:\n",
        "    grade = 'A+'\n",
        "elif marks >= 80:\n",
        "    grade = 'A'\n",
        "elif marks >= 70:\n",
        "    grade = 'B'\n",
        "elif marks >= 60:\n",
        "    grade = 'C'\n",
        "else:\n",
        "    grade = 'Fail'\n",
        "\n",
        "print(f\" Your Grade is: {grade}\")"
      ],
      "metadata": {
        "colab": {
          "base_uri": "https://localhost:8080/"
        },
        "id": "HTuNMUhXKXwA",
        "outputId": "86b10695-397e-4b42-9a9f-46af3204409e"
      },
      "execution_count": 10,
      "outputs": [
        {
          "output_type": "stream",
          "name": "stdout",
          "text": [
            "Enter your percentage: 99\n",
            " Your Grade is: A+\n"
          ]
        }
      ]
    },
    {
      "cell_type": "code",
      "source": [
        "num = int(input(\"Enter a number for its multiplication table: \"))\n",
        "\n",
        "print(f\"\\nMultiplication Table of {num}\")\n",
        "\n",
        "for i in range(1, 11):\n",
        "    print(f\"{num} x {i} = {num * i}\")"
      ],
      "metadata": {
        "colab": {
          "base_uri": "https://localhost:8080/"
        },
        "id": "hBpkB1UYKjJ8",
        "outputId": "678bcdd3-3b58-4f3e-9667-d3510cdf3cdc"
      },
      "execution_count": 11,
      "outputs": [
        {
          "output_type": "stream",
          "name": "stdout",
          "text": [
            "Enter a number for its multiplication table: 10\n",
            "\n",
            "Multiplication Table of 10\n",
            "10 x 1 = 10\n",
            "10 x 2 = 20\n",
            "10 x 3 = 30\n",
            "10 x 4 = 40\n",
            "10 x 5 = 50\n",
            "10 x 6 = 60\n",
            "10 x 7 = 70\n",
            "10 x 8 = 80\n",
            "10 x 9 = 90\n",
            "10 x 10 = 100\n"
          ]
        }
      ]
    },
    {
      "cell_type": "code",
      "source": [
        "start = int(input(\"Enter starting value: \"))\n",
        "end = int(input(\"Enter ending value: \"))\n",
        "\n",
        "print(f\"\\n Even Numbers between {start} and {end}:\")\n",
        "for i in range(start, end+1):\n",
        "    if i % 2 == 0:\n",
        "        print(i, end=' ')"
      ],
      "metadata": {
        "colab": {
          "base_uri": "https://localhost:8080/"
        },
        "id": "VuyMQPpWLP_p",
        "outputId": "85c40128-6d15-43d0-b709-9250fbb3fb5d"
      },
      "execution_count": 13,
      "outputs": [
        {
          "output_type": "stream",
          "name": "stdout",
          "text": [
            "Enter starting value: 1\n",
            "Enter ending value: 25\n",
            "\n",
            " Even Numbers between 1 and 25:\n",
            "2 4 6 8 10 12 14 16 18 20 22 24 "
          ]
        }
      ]
    },
    {
      "cell_type": "code",
      "source": [
        "correct_password = \"dsai123\"\n",
        "attempts = 0\n",
        "\n",
        "while attempts < 3:\n",
        "    password = input(\"Enter password: \")\n",
        "    if password == correct_password:\n",
        "        print(\" Access Granted!\")\n",
        "        break\n",
        "    else:\n",
        "        print(\" Wrong password.\")\n",
        "        attempts += 1\n",
        "\n",
        "if attempts == 3:\n",
        "    print(\" Too many failed attempts. Access Denied.\")"
      ],
      "metadata": {
        "colab": {
          "base_uri": "https://localhost:8080/"
        },
        "id": "7MizrRBpMJrs",
        "outputId": "d115a6e8-3a01-4a43-e524-7045ad8615fa"
      },
      "execution_count": 14,
      "outputs": [
        {
          "output_type": "stream",
          "name": "stdout",
          "text": [
            "Enter password: Abbud123\n",
            " Wrong password.\n",
            "Enter password: dsai123\n",
            " Access Granted!\n"
          ]
        }
      ]
    },
    {
      "cell_type": "code",
      "source": [
        "fruits = [\"apple\", \"banana\", \"mango\"]\n",
        "fruits.append(\"grape\")\n",
        "print(\"Fruits:\", fruits)\n",
        "\n",
        "student = {\"name\": \"Sara\", \"roll_no\": 101, \"marks\": 87}\n",
        "student[\"grade\"] = \"A\"\n",
        "print(\"Student Info:\", student)"
      ],
      "metadata": {
        "colab": {
          "base_uri": "https://localhost:8080/"
        },
        "id": "Q-E9mYaLMcHZ",
        "outputId": "70b3e78a-1a68-4d95-f7ca-68ea066a699c"
      },
      "execution_count": 15,
      "outputs": [
        {
          "output_type": "stream",
          "name": "stdout",
          "text": [
            "Fruits: ['apple', 'banana', 'mango', 'grape']\n",
            "Student Info: {'name': 'Sara', 'roll_no': 101, 'marks': 87, 'grade': 'A'}\n"
          ]
        }
      ]
    },
    {
      "cell_type": "code",
      "source": [
        "test_numbers = [2, 3, 4, 5, 17]\n",
        "\n",
        "for number in test_numbers:\n",
        "    if is_prime(number):\n",
        "        print(f\"{number} is a prime number.\")\n",
        "    else:\n",
        "        print(f\"{number} is not a prime number.\")"
      ],
      "metadata": {
        "id": "6tUZzDIaPLmx"
      },
      "execution_count": null,
      "outputs": []
    },
    {
      "cell_type": "code",
      "source": [
        "def calculate_average(marks):\n",
        "    return sum(marks) / len(marks)\n",
        "\n",
        "student_marks = [88, 76, 92]\n",
        "avg = calculate_average(student_marks)\n",
        "print(\"Average Marks:\", avg)"
      ],
      "metadata": {
        "colab": {
          "base_uri": "https://localhost:8080/"
        },
        "id": "6b_7caFNNFNj",
        "outputId": "d307f9b2-10c2-4416-b87c-2a0e0a07410e"
      },
      "execution_count": 16,
      "outputs": [
        {
          "output_type": "stream",
          "name": "stdout",
          "text": [
            "Average Marks: 85.33333333333333\n"
          ]
        }
      ]
    },
    {
      "cell_type": "code",
      "source": [
        "with open(\"student_data.txt\", \"w\") as file:\n",
        "    file.write(\"Name: Abdullah\")\n",
        "    file.write(\"Marks: 92\")\n",
        "\n",
        "with open(\"student_data.txt\", \"r\") as file:\n",
        "    data = file.read()\n",
        "    print(\"File Content:\\n\", data)"
      ],
      "metadata": {
        "colab": {
          "base_uri": "https://localhost:8080/"
        },
        "id": "j5XZRd-MNHGD",
        "outputId": "acba1813-426b-4061-aa43-d2397f96d8fb"
      },
      "execution_count": 20,
      "outputs": [
        {
          "output_type": "stream",
          "name": "stdout",
          "text": [
            "File Content:\n",
            " Name: AbdullahMarks: 92\n"
          ]
        }
      ]
    },
    {
      "cell_type": "code",
      "source": [
        "def find_maximum(a, b, c):\n",
        "    if a >= b and a >= c:\n",
        "        return a\n",
        "    elif b >= a and b >= c:\n",
        "        return b\n",
        "    else:\n",
        "        return c\n",
        "\n",
        "num1 = float(input(\"Enter the first number: \"))\n",
        "num2 = float(input(\"Enter the second number: \"))\n",
        "num3 = float(input(\"Enter the third number: \"))\n",
        "\n",
        "max_num = find_maximum(num1, num2, num3)\n",
        "print(f\"The maximum number is: {max_num}\")"
      ],
      "metadata": {
        "colab": {
          "base_uri": "https://localhost:8080/"
        },
        "id": "y4bnRcoGNzEo",
        "outputId": "e71a56ff-995e-465e-81e0-ebe84c1d606b"
      },
      "execution_count": 21,
      "outputs": [
        {
          "output_type": "stream",
          "name": "stdout",
          "text": [
            "Enter the first number: 5\n",
            "Enter the second number: 10\n",
            "Enter the third number: 3\n",
            "The maximum number is: 10.0\n"
          ]
        }
      ]
    },
    {
      "cell_type": "code",
      "source": [
        "cities = [\"Karachi\", \"Gujranwala\", \"Lahore\", \"Hyderabad\", \"Peshawar\"]\n",
        "\n",
        "cities.append(\"Pindi\")\n",
        "\n",
        "cities.remove(\"Hyderabad\")\n",
        "\n",
        "print(\"Final list of cities:\", cities)"
      ],
      "metadata": {
        "colab": {
          "base_uri": "https://localhost:8080/"
        },
        "id": "zYQ1mdEdN1Te",
        "outputId": "d634b8ad-0888-423f-95b9-714419a56a35"
      },
      "execution_count": 22,
      "outputs": [
        {
          "output_type": "stream",
          "name": "stdout",
          "text": [
            "Final list of cities: ['Karachi', 'Gujranwala', 'Lahore', 'Peshawar', 'Pindi']\n"
          ]
        }
      ]
    },
    {
      "cell_type": "code",
      "source": [
        "def is_prime(n):\n",
        "    if n <= 1:\n",
        "        return False\n",
        "    for i in range(2, int(n**0.5) + 1):\n",
        "        if n % i == 0:\n",
        "            return False\n",
        "    return True\n",
        "\n",
        "test_numbers = [2, 3, 4, 5, 17]\n",
        "\n",
        "for number in test_numbers:\n",
        "    if is_prime(number):\n",
        "        print(f\"{number} is a prime number.\")\n",
        "    else:\n",
        "        print(f\"{number} is not a prime number.\")"
      ],
      "metadata": {
        "colab": {
          "base_uri": "https://localhost:8080/"
        },
        "id": "lbIHmEVwPRab",
        "outputId": "97c97342-ff33-4215-efc9-ce799ad7f250"
      },
      "execution_count": 32,
      "outputs": [
        {
          "output_type": "stream",
          "name": "stdout",
          "text": [
            "2 is a prime number.\n",
            "3 is a prime number.\n",
            "4 is not a prime number.\n",
            "5 is a prime number.\n",
            "17 is a prime number.\n"
          ]
        }
      ]
    },
    {
      "cell_type": "code",
      "source": [
        "import csv\n",
        "\n",
        "# Create a CSV file with student records\n",
        "student_records = [\n",
        "    [\"Name\", \"Roll Number\", \"Marks\"],\n",
        "    [\"Abdullah\", \"001\", \"85\"],\n",
        "    [\"Talha\", \"002\", \"90\"],\n",
        "    [\"Ahmed\", \"003\", \"78\"]\n",
        "]\n",
        "\n",
        "with open(\"student_records.csv\", \"w\", newline='') as file:\n",
        "    writer = csv.writer(file)\n",
        "    writer.writerows(student_records)\n",
        "\n",
        "# Read and display the CSV file\n",
        "print(\"Student Records:\")\n",
        "with open(\"student_records.csv\", \"r\") as file:\n",
        "    reader = csv.reader(file)\n",
        "    for row in reader:\n",
        "        print(row)"
      ],
      "metadata": {
        "colab": {
          "base_uri": "https://localhost:8080/"
        },
        "id": "eARxMQEERRtx",
        "outputId": "9f33ee00-a799-4ac5-caa7-d6f569cea904"
      },
      "execution_count": 33,
      "outputs": [
        {
          "output_type": "stream",
          "name": "stdout",
          "text": [
            "Student Records:\n",
            "['Name', 'Roll Number', 'Marks']\n",
            "['Abdullah', '001', '85']\n",
            "['Talha', '002', '90']\n",
            "['Ahmed', '003', '78']\n"
          ]
        }
      ]
    }
  ]
}