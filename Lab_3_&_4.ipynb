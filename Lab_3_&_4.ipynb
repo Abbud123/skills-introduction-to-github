{
  "nbformat": 4,
  "nbformat_minor": 0,
  "metadata": {
    "colab": {
      "provenance": [],
      "authorship_tag": "ABX9TyNqpSsg3NBn+0rEb95N1Tn2",
      "include_colab_link": true
    },
    "kernelspec": {
      "name": "python3",
      "display_name": "Python 3"
    },
    "language_info": {
      "name": "python"
    }
  },
  "cells": [
    {
      "cell_type": "markdown",
      "metadata": {
        "id": "view-in-github",
        "colab_type": "text"
      },
      "source": [
        "<a href=\"https://colab.research.google.com/github/Abbud123/skills-introduction-to-github/blob/main/Lab_3_%26_4.ipynb\" target=\"_parent\"><img src=\"https://colab.research.google.com/assets/colab-badge.svg\" alt=\"Open In Colab\"/></a>"
      ]
    },
    {
      "cell_type": "code",
      "execution_count": 2,
      "metadata": {
        "colab": {
          "base_uri": "https://localhost:8080/"
        },
        "id": "KTls6EjqX09a",
        "outputId": "15eedc4d-55b8-484b-d211-4aebbf522588"
      },
      "outputs": [
        {
          "output_type": "stream",
          "name": "stdout",
          "text": [
            "1D Array: [1 2 3]\n",
            "2D Array:\n",
            " [[1 2]\n",
            " [3 4]]\n"
          ]
        }
      ],
      "source": [
        "import numpy as np\n",
        "\n",
        "a = np.array([1,2,3])\n",
        "b = np.array([[1, 2], [3, 4]])\n",
        "\n",
        "print(\"1D Array:\", a)\n",
        "print(\"2D Array:\\n\", b)\n"
      ]
    },
    {
      "cell_type": "code",
      "source": [
        "x = np.array([[2, 4], [6, 8]])\n",
        "y = np.array([[1, 1], [1, 1]])\n",
        "\n",
        "print(\"Addition:\\n\", x + y)\n",
        "print(\"Element-wise Multiplication:\\n\", x * y)\n",
        "print(\"Matrix Multiplication:\\n\", np.dot(x, y))"
      ],
      "metadata": {
        "colab": {
          "base_uri": "https://localhost:8080/"
        },
        "id": "VzipVcOEZYZh",
        "outputId": "707b29bc-57bf-43e7-96a2-0ff476045f0b"
      },
      "execution_count": 3,
      "outputs": [
        {
          "output_type": "stream",
          "name": "stdout",
          "text": [
            "Addition:\n",
            " [[3 5]\n",
            " [7 9]]\n",
            "Element-wise Multiplication:\n",
            " [[2 4]\n",
            " [6 8]]\n",
            "Matrix Multiplication:\n",
            " [[ 6  6]\n",
            " [14 14]]\n"
          ]
        }
      ]
    },
    {
      "cell_type": "code",
      "source": [
        "data = np.array([10, 20, 30, 40, 50])\n",
        "\n",
        "print(\"Mean:\", np.mean(data))\n",
        "print(\"Median:\", np.median(data))\n",
        "print(\"Standard Deviation:\", np.std(data))"
      ],
      "metadata": {
        "colab": {
          "base_uri": "https://localhost:8080/"
        },
        "id": "cdD0I5xRbtQd",
        "outputId": "8cdd1852-b869-4573-ac96-2cfee0028728"
      },
      "execution_count": 4,
      "outputs": [
        {
          "output_type": "stream",
          "name": "stdout",
          "text": [
            "Mean: 30.0\n",
            "Median: 30.0\n",
            "Standard Deviation: 14.142135623730951\n"
          ]
        }
      ]
    },
    {
      "cell_type": "code",
      "source": [
        "arr = np.arange(12)\n",
        "reshaped_arr = arr.reshape(3, 4)\n",
        "\n",
        "print(\"Reshaped Array:\\n\", reshaped_arr)"
      ],
      "metadata": {
        "colab": {
          "base_uri": "https://localhost:8080/"
        },
        "id": "ue8zDNL1d1CE",
        "outputId": "be036e94-7c8a-4fab-bf9d-4b7d1355b3cd"
      },
      "execution_count": 9,
      "outputs": [
        {
          "output_type": "stream",
          "name": "stdout",
          "text": [
            "Reshaped Array:\n",
            " [[ 0  1  2  3]\n",
            " [ 4  5  6  7]\n",
            " [ 8  9 10 11]]\n"
          ]
        }
      ]
    },
    {
      "cell_type": "code",
      "source": [
        "matrix = np.array([[1, 2, 3], [4, 5, 6], [7, 8, 9]])\n",
        "\n",
        "second_row = matrix[1, :]\n",
        "second_column = matrix[:, 1]\n",
        "\n",
        "print(\"Second Row:\", second_row)\n",
        "print(\"Second Column:\", second_column)"
      ],
      "metadata": {
        "colab": {
          "base_uri": "https://localhost:8080/"
        },
        "id": "5oaXjk4vpo8D",
        "outputId": "93b1a501-cbe2-49c3-f253-efd34206e5ea"
      },
      "execution_count": 10,
      "outputs": [
        {
          "output_type": "stream",
          "name": "stdout",
          "text": [
            "Second Row: [4 5 6]\n",
            "Second Column: [2 5 8]\n"
          ]
        }
      ]
    },
    {
      "cell_type": "code",
      "source": [
        "a = np.array([1, 2, 3])\n",
        "b = np.array([10, 20, 30])\n",
        "\n",
        "result = a + b\n",
        "print(\"Broadcasting Result:\", result)"
      ],
      "metadata": {
        "colab": {
          "base_uri": "https://localhost:8080/"
        },
        "id": "ddxstboMqddW",
        "outputId": "6d207125-6466-4156-a232-5ab013598800"
      },
      "execution_count": 11,
      "outputs": [
        {
          "output_type": "stream",
          "name": "stdout",
          "text": [
            "Broadcasting Result: [11 22 33]\n"
          ]
        }
      ]
    },
    {
      "cell_type": "code",
      "source": [
        "random_numbers = np.random.rand(5)\n",
        "random_integers = np.random.randint(1, 101, (4, 3))\n",
        "\n",
        "print(\"Random Numbers:\", random_numbers)\n",
        "print(\"Random Integers:\\n\", random_integers)"
      ],
      "metadata": {
        "colab": {
          "base_uri": "https://localhost:8080/"
        },
        "id": "1OHHn9nsqkC4",
        "outputId": "c0d5b458-0d18-42a9-c868-a4af32384e0b"
      },
      "execution_count": 14,
      "outputs": [
        {
          "output_type": "stream",
          "name": "stdout",
          "text": [
            "Random Numbers: [0.5781116  0.0228858  0.52434984 0.16495032 0.89969229]\n",
            "Random Integers:\n",
            " [[46 31 40]\n",
            " [27 86 73]\n",
            " [86  2 21]\n",
            " [30 34 72]]\n"
          ]
        }
      ]
    },
    {
      "cell_type": "code",
      "source": [
        "import pandas as pd\n",
        "\n",
        "data = {\n",
        "    \"Name\": [\"Ali\", \"Sara\", \"Ahmed\", \"Fatima\"],\n",
        "    \"Marks\": [85, 90, 78, None],\n",
        "    \"Subject\": [\"Math\", \"Science\", \"Math\", \"Science\"]\n",
        "}\n",
        "\n",
        "df = pd.DataFrame(data)\n",
        "print(\"DataFrame:\\n\", df)\n",
        "print(\"\\nSummary:\\n\", df.describe())"
      ],
      "metadata": {
        "colab": {
          "base_uri": "https://localhost:8080/"
        },
        "id": "9Z84gtxeqxll",
        "outputId": "f2baf60c-2f22-44d4-aa0f-0debfb08284b"
      },
      "execution_count": 15,
      "outputs": [
        {
          "output_type": "stream",
          "name": "stdout",
          "text": [
            "DataFrame:\n",
            "      Name  Marks  Subject\n",
            "0     Ali   85.0     Math\n",
            "1    Sara   90.0  Science\n",
            "2   Ahmed   78.0     Math\n",
            "3  Fatima    NaN  Science\n",
            "\n",
            "Summary:\n",
            "            Marks\n",
            "count   3.000000\n",
            "mean   84.333333\n",
            "std     6.027714\n",
            "min    78.000000\n",
            "25%    81.500000\n",
            "50%    85.000000\n",
            "75%    87.500000\n",
            "max    90.000000\n"
          ]
        }
      ]
    },
    {
      "cell_type": "code",
      "source": [
        "print(\"Original Data:\\n\", df)\n",
        "\n",
        "df['Marks'].fillna(df['Marks'].mean(), inplace=True)\n",
        "\n",
        "print(\"\\nAfter Filling Missing Marks:\\n\", df)"
      ],
      "metadata": {
        "colab": {
          "base_uri": "https://localhost:8080/"
        },
        "id": "YP9pi-WHrgWr",
        "outputId": "b17cd283-a4fd-4b32-f6f8-a5394b519f20"
      },
      "execution_count": 16,
      "outputs": [
        {
          "output_type": "stream",
          "name": "stdout",
          "text": [
            "Original Data:\n",
            "      Name  Marks  Subject\n",
            "0     Ali   85.0     Math\n",
            "1    Sara   90.0  Science\n",
            "2   Ahmed   78.0     Math\n",
            "3  Fatima    NaN  Science\n",
            "\n",
            "After Filling Missing Marks:\n",
            "      Name      Marks  Subject\n",
            "0     Ali  85.000000     Math\n",
            "1    Sara  90.000000  Science\n",
            "2   Ahmed  78.000000     Math\n",
            "3  Fatima  84.333333  Science\n"
          ]
        },
        {
          "output_type": "stream",
          "name": "stderr",
          "text": [
            "<ipython-input-16-894cbf421a2f>:3: FutureWarning: A value is trying to be set on a copy of a DataFrame or Series through chained assignment using an inplace method.\n",
            "The behavior will change in pandas 3.0. This inplace method will never work because the intermediate object on which we are setting values always behaves as a copy.\n",
            "\n",
            "For example, when doing 'df[col].method(value, inplace=True)', try using 'df.method({col: value}, inplace=True)' or df[col] = df[col].method(value) instead, to perform the operation inplace on the original object.\n",
            "\n",
            "\n",
            "  df['Marks'].fillna(df['Marks'].mean(), inplace=True)\n"
          ]
        }
      ]
    },
    {
      "cell_type": "code",
      "source": [
        "grouped = df.groupby(\"Subject\")[\"Marks\"].mean()\n",
        "print(\"Average Marks by Subject:\\n\", grouped)"
      ],
      "metadata": {
        "colab": {
          "base_uri": "https://localhost:8080/"
        },
        "id": "PJKuOPgKrvT9",
        "outputId": "8970ad75-3ff2-4db4-c545-f626cd214610"
      },
      "execution_count": 17,
      "outputs": [
        {
          "output_type": "stream",
          "name": "stdout",
          "text": [
            "Average Marks by Subject:\n",
            " Subject\n",
            "Math       81.500000\n",
            "Science    87.166667\n",
            "Name: Marks, dtype: float64\n"
          ]
        }
      ]
    },
    {
      "cell_type": "code",
      "source": [
        "df.to_csv(\"students.csv\", index=False)\n",
        "df_csv = pd.read_csv(\"students.csv\")\n",
        "print(\"Data read from CSV:\\n\", df_csv)\n",
        "\n",
        "print(df_csv.head())"
      ],
      "metadata": {
        "colab": {
          "base_uri": "https://localhost:8080/"
        },
        "id": "4hLkJVhhzn7K",
        "outputId": "be83d449-e5f7-422d-ee87-7fe249c76cf1"
      },
      "execution_count": 18,
      "outputs": [
        {
          "output_type": "stream",
          "name": "stdout",
          "text": [
            "Data read from CSV:\n",
            "      Name      Marks  Subject\n",
            "0     Ali  85.000000     Math\n",
            "1    Sara  90.000000  Science\n",
            "2   Ahmed  78.000000     Math\n",
            "3  Fatima  84.333333  Science\n",
            "     Name      Marks  Subject\n",
            "0     Ali  85.000000     Math\n",
            "1    Sara  90.000000  Science\n",
            "2   Ahmed  78.000000     Math\n",
            "3  Fatima  84.333333  Science\n"
          ]
        }
      ]
    },
    {
      "cell_type": "code",
      "source": [
        "sorted_df = df.sort_values(by=\"Marks\", ascending=False)\n",
        "print(\"Sorted DataFrame by Marks:\\n\", sorted_df)"
      ],
      "metadata": {
        "colab": {
          "base_uri": "https://localhost:8080/"
        },
        "id": "ln5Lfl86zx0w",
        "outputId": "9b2996c2-b0ae-43bf-bef4-a835f7b4dc9d"
      },
      "execution_count": 19,
      "outputs": [
        {
          "output_type": "stream",
          "name": "stdout",
          "text": [
            "Sorted DataFrame by Marks:\n",
            "      Name      Marks  Subject\n",
            "1    Sara  90.000000  Science\n",
            "0     Ali  85.000000     Math\n",
            "3  Fatima  84.333333  Science\n",
            "2   Ahmed  78.000000     Math\n"
          ]
        }
      ]
    },
    {
      "cell_type": "code",
      "source": [
        "filtered_df = df[df[\"Marks\"] > 80]\n",
        "print(\"Filtered DataFrame (Marks > 80):\\n\", filtered_df)"
      ],
      "metadata": {
        "colab": {
          "base_uri": "https://localhost:8080/"
        },
        "id": "1zuP7U050EB1",
        "outputId": "18b850ca-06cc-45e2-c1d0-44fa62e64437"
      },
      "execution_count": 20,
      "outputs": [
        {
          "output_type": "stream",
          "name": "stdout",
          "text": [
            "Filtered DataFrame (Marks > 80):\n",
            "      Name      Marks  Subject\n",
            "0     Ali  85.000000     Math\n",
            "1    Sara  90.000000  Science\n",
            "3  Fatima  84.333333  Science\n"
          ]
        }
      ]
    },
    {
      "cell_type": "code",
      "source": [
        "df[\"Pass/Fail\"] = df[\"Marks\"].apply(lambda x: \"Pass\" if x >= 50 else \"Fail\")\n",
        "print(\"DataFrame with 'Pass/Fail' column:\\n\", df)"
      ],
      "metadata": {
        "colab": {
          "base_uri": "https://localhost:8080/"
        },
        "id": "OCsIZ9uu0K_B",
        "outputId": "a1245021-0f96-4efd-e6de-e58f60207097"
      },
      "execution_count": 21,
      "outputs": [
        {
          "output_type": "stream",
          "name": "stdout",
          "text": [
            "DataFrame with 'Pass/Fail' column:\n",
            "      Name      Marks  Subject Pass/Fail\n",
            "0     Ali  85.000000     Math      Pass\n",
            "1    Sara  90.000000  Science      Pass\n",
            "2   Ahmed  78.000000     Math      Pass\n",
            "3  Fatima  84.333333  Science      Pass\n"
          ]
        }
      ]
    },
    {
      "cell_type": "code",
      "source": [
        "df2 = pd.DataFrame({\n",
        "    \"Name\": [\"Ali\", \"Sara\", \"Ahmed\", \"Fatima\"],\n",
        "    \"Age\": [18, 19, 20, 21]\n",
        "})\n",
        "\n",
        "merged_df = pd.merge(df, df2, on=\"Name\")\n",
        "print(\"Merged DataFrame:\\n\", merged_df)"
      ],
      "metadata": {
        "colab": {
          "base_uri": "https://localhost:8080/"
        },
        "id": "EAXYV3gz0V0O",
        "outputId": "9525561d-1eb0-4b64-dfa1-e6438eeba11d"
      },
      "execution_count": 22,
      "outputs": [
        {
          "output_type": "stream",
          "name": "stdout",
          "text": [
            "Merged DataFrame:\n",
            "      Name      Marks  Subject Pass/Fail  Age\n",
            "0     Ali  85.000000     Math      Pass   18\n",
            "1    Sara  90.000000  Science      Pass   19\n",
            "2   Ahmed  78.000000     Math      Pass   20\n",
            "3  Fatima  84.333333  Science      Pass   21\n"
          ]
        }
      ]
    },
    {
      "cell_type": "code",
      "source": [
        "import matplotlib.pyplot as plt\n",
        "\n",
        "df['Marks'].plot(kind='bar')\n",
        "plt.title(\"Marks Distribution\")\n",
        "plt.xlabel(\"Students\")\n",
        "plt.ylabel(\"Marks\")\n",
        "plt.show()"
      ],
      "metadata": {
        "colab": {
          "base_uri": "https://localhost:8080/",
          "height": 467
        },
        "id": "3bdBnc090o3f",
        "outputId": "24df57f3-1352-4700-aa0c-89144107ef62"
      },
      "execution_count": 25,
      "outputs": [
        {
          "output_type": "display_data",
          "data": {
            "text/plain": [
              "<Figure size 640x480 with 1 Axes>"
            ],
            "image/png": "[encoded data removed]"
          },
          "metadata": {}
        }
      ]
    },
    {
      "cell_type": "code",
      "source": [
        "df['Subject'] = df['Subject'].astype('category')\n",
        "print(\"Converted 'Subject' column to categorical data:\\n\", df.dtypes)"
      ],
      "metadata": {
        "colab": {
          "base_uri": "https://localhost:8080/"
        },
        "id": "b3xk3Zsp03HR",
        "outputId": "286f408a-85a9-44a3-db8d-8f14e5b54889"
      },
      "execution_count": 26,
      "outputs": [
        {
          "output_type": "stream",
          "name": "stdout",
          "text": [
            "Converted 'Subject' column to categorical data:\n",
            " Name           object\n",
            "Marks         float64\n",
            "Subject      category\n",
            "Pass/Fail      object\n",
            "dtype: object\n"
          ]
        }
      ]
    },
    {
      "cell_type": "code",
      "source": [],
      "metadata": {
        "id": "u8g7xHXj1LiJ"
      },
      "execution_count": null,
      "outputs": []
    }
  ]
}